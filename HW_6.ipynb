{
 "cells": [
  {
   "cell_type": "markdown",
   "metadata": {
    "id": "nMBdGcvjC4Ji"
   },
   "source": [
    "# Вебинар 6. Двухуровневые модели рекомендаций\n"
   ]
  },
  {
   "cell_type": "code",
   "execution_count": 1,
   "metadata": {
    "id": "5Aur99NsC4Jm"
   },
   "outputs": [],
   "source": [
    "import pandas as pd\n",
    "import numpy as np\n",
    "import matplotlib.pyplot as plt\n",
    "%matplotlib inline\n",
    "\n",
    "# Для работы с матрицами\n",
    "from scipy.sparse import csr_matrix\n",
    "\n",
    "# Матричная факторизация\n",
    "from implicit import als\n",
    "\n",
    "# Модель второго уровня\n",
    "from lightgbm import LGBMClassifier\n",
    "\n",
    "# Написанные нами функции\n",
    "from src.metrics import precision_at_k, recall_at_k\n",
    "from src.utils import prefilter_items\n",
    "from src.recommenders import MainRecommender"
   ]
  },
  {
   "cell_type": "code",
   "execution_count": 2,
   "metadata": {
    "colab": {
     "base_uri": "https://localhost:8080/",
     "height": 442
    },
    "executionInfo": {
     "elapsed": 6,
     "status": "error",
     "timestamp": 1634972417625,
     "user": {
      "displayName": "Николай -",
      "photoUrl": "https://lh3.googleusercontent.com/a-/AOh14GiCS90olAsBznR3WLZOaJ5ukcv2LPYBRWvHEQUZ-A=s64",
      "userId": "17372739142422056321"
     },
     "user_tz": -180
    },
    "id": "vso_erSdC4Jo",
    "outputId": "81cbc675-678b-4650-d076-de2e5e1eb4ad"
   },
   "outputs": [
    {
     "data": {
      "text/html": [
       "<div>\n",
       "<style scoped>\n",
       "    .dataframe tbody tr th:only-of-type {\n",
       "        vertical-align: middle;\n",
       "    }\n",
       "\n",
       "    .dataframe tbody tr th {\n",
       "        vertical-align: top;\n",
       "    }\n",
       "\n",
       "    .dataframe thead th {\n",
       "        text-align: right;\n",
       "    }\n",
       "</style>\n",
       "<table border=\"1\" class=\"dataframe\">\n",
       "  <thead>\n",
       "    <tr style=\"text-align: right;\">\n",
       "      <th></th>\n",
       "      <th>user_id</th>\n",
       "      <th>basket_id</th>\n",
       "      <th>day</th>\n",
       "      <th>item_id</th>\n",
       "      <th>quantity</th>\n",
       "      <th>sales_value</th>\n",
       "      <th>store_id</th>\n",
       "      <th>retail_disc</th>\n",
       "      <th>trans_time</th>\n",
       "      <th>week_no</th>\n",
       "      <th>coupon_disc</th>\n",
       "      <th>coupon_match_disc</th>\n",
       "    </tr>\n",
       "  </thead>\n",
       "  <tbody>\n",
       "    <tr>\n",
       "      <th>0</th>\n",
       "      <td>2375</td>\n",
       "      <td>26984851472</td>\n",
       "      <td>1</td>\n",
       "      <td>1004906</td>\n",
       "      <td>1</td>\n",
       "      <td>1.39</td>\n",
       "      <td>364</td>\n",
       "      <td>-0.6</td>\n",
       "      <td>1631</td>\n",
       "      <td>1</td>\n",
       "      <td>0.0</td>\n",
       "      <td>0.0</td>\n",
       "    </tr>\n",
       "    <tr>\n",
       "      <th>1</th>\n",
       "      <td>2375</td>\n",
       "      <td>26984851472</td>\n",
       "      <td>1</td>\n",
       "      <td>1033142</td>\n",
       "      <td>1</td>\n",
       "      <td>0.82</td>\n",
       "      <td>364</td>\n",
       "      <td>0.0</td>\n",
       "      <td>1631</td>\n",
       "      <td>1</td>\n",
       "      <td>0.0</td>\n",
       "      <td>0.0</td>\n",
       "    </tr>\n",
       "  </tbody>\n",
       "</table>\n",
       "</div>"
      ],
      "text/plain": [
       "   user_id    basket_id  day  item_id  quantity  sales_value  store_id  \\\n",
       "0     2375  26984851472    1  1004906         1         1.39       364   \n",
       "1     2375  26984851472    1  1033142         1         0.82       364   \n",
       "\n",
       "   retail_disc  trans_time  week_no  coupon_disc  coupon_match_disc  \n",
       "0         -0.6        1631        1          0.0                0.0  \n",
       "1          0.0        1631        1          0.0                0.0  "
      ]
     },
     "execution_count": 2,
     "metadata": {},
     "output_type": "execute_result"
    }
   ],
   "source": [
    "data = pd.read_csv('retail_train.csv')\n",
    "item_features = pd.read_csv('product.csv')\n",
    "user_features = pd.read_csv('hh_demographic.csv')\n",
    "\n",
    "# column processing\n",
    "item_features.columns = [col.lower() for col in item_features.columns]\n",
    "user_features.columns = [col.lower() for col in user_features.columns]\n",
    "\n",
    "item_features.rename(columns={'product_id': 'item_id'}, inplace=True)\n",
    "user_features.rename(columns={'household_key': 'user_id'}, inplace=True)\n",
    "\n",
    "\n",
    "# Важна схема обучения и валидации!\n",
    "# -- давние покупки -- | -- 6 недель -- | -- 3 недель -- \n",
    "# подобрать размер 2-ого датасета (6 недель) --> learning curve (зависимость метрики recall@k от размера датасета)\n",
    "val_lvl_1_size_weeks = 6\n",
    "val_lvl_2_size_weeks = 3\n",
    "\n",
    "data_train_lvl_1 = data[data['week_no'] < data['week_no'].max() - (val_lvl_1_size_weeks + val_lvl_2_size_weeks)]\n",
    "data_val_lvl_1 = data[(data['week_no'] >= data['week_no'].max() - (val_lvl_1_size_weeks + val_lvl_2_size_weeks)) &\n",
    "                      (data['week_no'] < data['week_no'].max() - (val_lvl_2_size_weeks))]\n",
    "\n",
    "data_train_lvl_2 = data_val_lvl_1.copy()  # Для наглядности. Далее мы добавим изменения, и они будут отличаться\n",
    "data_val_lvl_2 = data[data['week_no'] >= data['week_no'].max() - val_lvl_2_size_weeks]\n",
    "\n",
    "data_train_lvl_1.head(2)"
   ]
  },
  {
   "cell_type": "code",
   "execution_count": 3,
   "metadata": {
    "id": "zcnV3l4XC4Jp",
    "outputId": "d58f889c-0671-4bb9-b2b6-2dc2e8c24fce"
   },
   "outputs": [
    {
     "name": "stdout",
     "output_type": "stream",
     "text": [
      "Decreased # items from 83685 to 5001\n"
     ]
    }
   ],
   "source": [
    "n_items_before = data_train_lvl_1['item_id'].nunique()\n",
    "\n",
    "data_train_lvl_1 = prefilter_items(data_train_lvl_1, item_features=item_features, take_n_popular=5000)\n",
    "\n",
    "n_items_after = data_train_lvl_1['item_id'].nunique()\n",
    "print('Decreased # items from {} to {}'.format(n_items_before, n_items_after))"
   ]
  },
  {
   "cell_type": "code",
   "execution_count": 4,
   "metadata": {
    "colab": {
     "referenced_widgets": [
      "729d4287bb794971802d9da5e141f10a",
      "32375ef613474af6a0fcadb9255eb835"
     ]
    },
    "id": "zgYXRQ0lC4Jq",
    "outputId": "d9ea41ae-3b4d-41b4-fc46-90868ebb9894"
   },
   "outputs": [
    {
     "name": "stderr",
     "output_type": "stream",
     "text": [
      "WARNING:root:Intel MKL BLAS detected. Its highly recommend to set the environment variable 'export MKL_NUM_THREADS=1' to disable its internal multithreading\n"
     ]
    },
    {
     "data": {
      "application/vnd.jupyter.widget-view+json": {
       "model_id": "98289e1fbaf448928d85e9bab02e95f7",
       "version_major": 2,
       "version_minor": 0
      },
      "text/plain": [
       "  0%|          | 0/15 [00:00<?, ?it/s]"
      ]
     },
     "metadata": {},
     "output_type": "display_data"
    },
    {
     "data": {
      "application/vnd.jupyter.widget-view+json": {
       "model_id": "6cb78bf672f6485c8d0456748c831da5",
       "version_major": 2,
       "version_minor": 0
      },
      "text/plain": [
       "  0%|          | 0/5001 [00:00<?, ?it/s]"
      ]
     },
     "metadata": {},
     "output_type": "display_data"
    }
   ],
   "source": [
    "recommender = MainRecommender(data_train_lvl_1)"
   ]
  },
  {
   "cell_type": "code",
   "execution_count": 5,
   "metadata": {
    "id": "xB9JX5swC4Jr",
    "outputId": "af05502b-1fb9-42b6-919c-b915ac3a0106"
   },
   "outputs": [
    {
     "data": {
      "text/plain": [
       "[1029743, 1106523, 5569230, 916122, 844179]"
      ]
     },
     "execution_count": 5,
     "metadata": {},
     "output_type": "execute_result"
    }
   ],
   "source": [
    "recommender.get_als_recommendations(296, N=5)"
   ]
  },
  {
   "cell_type": "code",
   "execution_count": 6,
   "metadata": {
    "id": "PNVa6jWLC4Jr",
    "outputId": "c69395e4-8171-41f1-c0c4-067b582f26e0"
   },
   "outputs": [
    {
     "data": {
      "text/plain": [
       "[1029743, 1106523, 5569230, 916122, 844179]"
      ]
     },
     "execution_count": 6,
     "metadata": {},
     "output_type": "execute_result"
    }
   ],
   "source": [
    "recommender.get_own_recommendations(296, N=5)"
   ]
  },
  {
   "cell_type": "code",
   "execution_count": 7,
   "metadata": {
    "id": "0NoB_lSJC4Js",
    "outputId": "9f91a42c-08bf-4037-fca1-54db5a5cafee"
   },
   "outputs": [
    {
     "data": {
      "text/plain": [
       "[901062, 5569845, 907631, 9364612, 12301109]"
      ]
     },
     "execution_count": 7,
     "metadata": {},
     "output_type": "execute_result"
    }
   ],
   "source": [
    "recommender.get_similar_items_recommendation(2499, N=5)"
   ]
  },
  {
   "cell_type": "code",
   "execution_count": 8,
   "metadata": {
    "id": "GdQO5CWKC4Js",
    "outputId": "08936fbf-715f-412a-9fbe-065816bb6a90"
   },
   "outputs": [
    {
     "data": {
      "text/plain": [
       "[1053329, 10285454, 893362, 916990, 988277]"
      ]
     },
     "execution_count": 8,
     "metadata": {},
     "output_type": "execute_result"
    }
   ],
   "source": [
    "recommender.get_similar_users_recommendation(2499, N=5)"
   ]
  },
  {
   "cell_type": "markdown",
   "metadata": {
    "id": "Bqs9Sw_YC4Jt"
   },
   "source": [
    "A) Попробуйте различные варианты генерации кандидатов. Какие из них дают наибольший recall@k ?\n",
    "- Пока пробуем отобрать 50 кандидатов (k=50)\n",
    "- Качество измеряем на data_val_lvl_1: следующие 6 недель после трейна\n",
    "\n",
    "Дают ли own recommendtions + top-popular лучший recall?  \n",
    "\n",
    "B)* Как зависит recall@k от k? Постройте для одной схемы генерации кандидатов эту зависимость для k = {20, 50, 100, 200, 500}  \n",
    "C)* Исходя из прошлого вопроса, как вы думаете, какое значение k является наиболее разумным?\n"
   ]
  },
  {
   "cell_type": "code",
   "execution_count": 9,
   "metadata": {
    "id": "frt2RzDWC4Jt",
    "outputId": "7c594abf-4a34-406b-9897-8bfbddf69a93"
   },
   "outputs": [
    {
     "data": {
      "text/html": [
       "<div>\n",
       "<style scoped>\n",
       "    .dataframe tbody tr th:only-of-type {\n",
       "        vertical-align: middle;\n",
       "    }\n",
       "\n",
       "    .dataframe tbody tr th {\n",
       "        vertical-align: top;\n",
       "    }\n",
       "\n",
       "    .dataframe thead th {\n",
       "        text-align: right;\n",
       "    }\n",
       "</style>\n",
       "<table border=\"1\" class=\"dataframe\">\n",
       "  <thead>\n",
       "    <tr style=\"text-align: right;\">\n",
       "      <th></th>\n",
       "      <th>user_id</th>\n",
       "      <th>actual</th>\n",
       "    </tr>\n",
       "  </thead>\n",
       "  <tbody>\n",
       "    <tr>\n",
       "      <th>0</th>\n",
       "      <td>1</td>\n",
       "      <td>[853529, 865456, 867607, 872137, 874905, 87524...</td>\n",
       "    </tr>\n",
       "    <tr>\n",
       "      <th>1</th>\n",
       "      <td>2</td>\n",
       "      <td>[15830248, 838136, 839656, 861272, 866211, 870...</td>\n",
       "    </tr>\n",
       "  </tbody>\n",
       "</table>\n",
       "</div>"
      ],
      "text/plain": [
       "   user_id                                             actual\n",
       "0        1  [853529, 865456, 867607, 872137, 874905, 87524...\n",
       "1        2  [15830248, 838136, 839656, 861272, 866211, 870..."
      ]
     },
     "execution_count": 9,
     "metadata": {},
     "output_type": "execute_result"
    }
   ],
   "source": [
    "result_lvl_1 = data_val_lvl_1.groupby('user_id')['item_id'].unique().reset_index()\n",
    "result_lvl_1.columns=['user_id', 'actual']\n",
    "result_lvl_1.head(2)"
   ]
  },
  {
   "cell_type": "code",
   "execution_count": 10,
   "metadata": {},
   "outputs": [],
   "source": [
    "# Различные варианты генерации кандидатов.\n",
    "\n",
    "N=50\n",
    "# res = result_lvl_1.copy()\n",
    "\n",
    "funcs = {'als_recommendations': recommender.get_als_recommendations,\n",
    "       'own_recommendations': recommender.get_own_recommendations,\n",
    "       'similar_items_recommendation': recommender.get_similar_items_recommendation,\n",
    "       'similar_users_recommendation': recommender.get_similar_users_recommendation}\n",
    "\n",
    "for key, func in funcs.items():\n",
    "    result_lvl_1[key] = result_lvl_1['user_id'].apply(lambda x: func(x, N=N))\n",
    "    result_lvl_1['recall-'+key] = result_lvl_1['user_id'].apply(lambda x: recall_at_k(list(result_lvl_1.loc[result_lvl_1['user_id']==x, key])[0],\\\n",
    "                                                          list(result_lvl_1.loc[result_lvl_1['user_id']==x, 'actual'])[0], k=N))    "
   ]
  },
  {
   "cell_type": "code",
   "execution_count": 11,
   "metadata": {},
   "outputs": [
    {
     "name": "stdout",
     "output_type": "stream",
     "text": [
      "генерация при помощи - als_recommendations, recall = 0.047630975420893194\n",
      "генерация при помощи - own_recommendations, recall = 0.06519221251051327\n",
      "генерация при помощи - similar_items_recommendation, recall = 0.03468389125937804\n",
      "генерация при помощи - similar_users_recommendation, recall = 0.002805234836922033\n"
     ]
    }
   ],
   "source": [
    "for key, func in funcs.items():\n",
    "    print(f\"генерация при помощи - {key}, recall = {result_lvl_1['recall-'+ key].mean()}\" )"
   ]
  },
  {
   "cell_type": "code",
   "execution_count": null,
   "metadata": {},
   "outputs": [],
   "source": []
  },
  {
   "cell_type": "code",
   "execution_count": 12,
   "metadata": {},
   "outputs": [],
   "source": [
    "# Зависимость recall@k от k.\n",
    "\n",
    "rc = []\n",
    "k =  [20, 50, 100, 200, 500]\n",
    "key = 'own_recommendations'\n",
    "func = recommender.get_own_recommendations\n",
    "res = result_lvl_1.copy()\n",
    "for num_recommend in k:\n",
    "    result_lvl_1[key] = result_lvl_1['user_id'].apply(lambda x: func(x, N=num_recommend))\n",
    "    result_lvl_1['recall'+key] = result_lvl_1['user_id'].apply(lambda x: recall_at_k(list(result_lvl_1.loc[result_lvl_1['user_id']==x, key])[0],\\\n",
    "                                                          list(result_lvl_1.loc[result_lvl_1['user_id']==x, 'actual'])[0], k=num_recommend))\n",
    "    rc.append(result_lvl_1['recall'+ key].mean()) "
   ]
  },
  {
   "cell_type": "code",
   "execution_count": 13,
   "metadata": {},
   "outputs": [
    {
     "data": {
      "image/png": "[encoded data removed]",
      "text/plain": [
       "<Figure size 432x288 with 1 Axes>"
      ]
     },
     "metadata": {
      "needs_background": "light"
     },
     "output_type": "display_data"
    }
   ],
   "source": [
    "plt.plot(k, rc);"
   ]
  },
  {
   "cell_type": "code",
   "execution_count": null,
   "metadata": {},
   "outputs": [],
   "source": []
  },
  {
   "cell_type": "code",
   "execution_count": 14,
   "metadata": {},
   "outputs": [
    {
     "name": "stdout",
     "output_type": "stream",
     "text": [
      "Wall time: 16 ms\n"
     ]
    }
   ],
   "source": [
    "%%time\n",
    "s = recommender.get_als_recommendations(1, N=5)"
   ]
  },
  {
   "cell_type": "code",
   "execution_count": 15,
   "metadata": {},
   "outputs": [
    {
     "name": "stdout",
     "output_type": "stream",
     "text": [
      "Wall time: 24 ms\n"
     ]
    }
   ],
   "source": [
    "%%time\n",
    "a = recommender.get_als_recommendations(1, N=500)"
   ]
  },
  {
   "cell_type": "markdown",
   "metadata": {},
   "source": [
    "Скорость выдачи рекоммендаций при разных N не зависит от времени, поэтому при выборе N необходимо руководствоваться характеристиками второго уровня. В силу того что из N рекоммендаций первого уровня, модель второго уровня должна выбрать 5, количество N должно обеспечить возможность выбора 5 итоговых рекоммендаций. Если N будет слишком мала мы получим по 1-2 итоговых рекомендаций, это заставит нас дополнять недостающие популярными, что снизит метрики. Если же N будет слишком большая и мы получим больше рекомендаций чем требуется, не рационально используем ресурс. "
   ]
  },
  {
   "cell_type": "code",
   "execution_count": null,
   "metadata": {},
   "outputs": [],
   "source": []
  },
  {
   "cell_type": "markdown",
   "metadata": {
    "id": "bAHJu3Z5C4Ju"
   },
   "source": [
    "Обучите модель 2-ого уровня, при этом:\n",
    "    - Добавьте минимум по 2 фичи для юзера, товара и пары юзер-товар\n",
    "    - Измерьте отдельно precision@5 модели 1-ого уровня и двухуровневой модели на data_val_lvl_2\n",
    "    - Вырос ли precision@5 при использовании двухуровневой модели?\n",
    "    \n",
    "    \n",
    "Далее оценить на валидационном множестве precision    \n",
    "    "
   ]
  },
  {
   "cell_type": "code",
   "execution_count": 16,
   "metadata": {},
   "outputs": [],
   "source": [
    "class Preprocessing():\n",
    "    \n",
    "    def __init__(self, model, N=50):\n",
    "        self.model = model\n",
    "        self.N = N     \n",
    "    \n",
    "    def new_features_user(self, data_train_lvl_2, item_features):\n",
    "        '''определяет новые фичи покупателя\n",
    "        1. средняя сумма покупки покупателем товара в категории\n",
    "        2. количество покупак товара в категории\n",
    "        3. средний чек покупателя\n",
    "        4. общее число покупок\n",
    "        '''\n",
    "        data = data_train_lvl_2.merge(item_features, on='item_id', how='left')\n",
    "        new_f_1 = data.groupby(['user_id', 'department'])['sales_value'].agg(['mean','count']).reset_index()\n",
    "        new_f_2 = data.groupby(['user_id'])['sales_value'].agg(['mean','count']).reset_index()\n",
    "        new_f_u = new_f_1.merge(new_f_2, on= 'user_id', how='left')\n",
    "        new_f_u.columns = ['user_id', 'department', 'mean_department', 'count_department','mean_all','count_al']\n",
    "        return new_f_u\n",
    "    \n",
    "    def new_features_item(self, data_train_lvl_2, item_features):\n",
    "        '''определяет новые фичи товара\n",
    "        1. Среднее количество товара проданного за неделю\n",
    "        2. Среднее количество товара в категории проданного за неделю\n",
    "        3. Отношение количества товара к количеству товара в категории проданных за неделю\n",
    "        '''\n",
    "        data = data_train_lvl_2.merge(item_features, on='item_id', how='left')\n",
    "        new_f_1 = data.groupby(['item_id'])['quantity'].sum().reset_index()\n",
    "        num_week = data['week_no'].max()- data['week_no'].min()\n",
    "        new_f_1['quantity'] = new_f_1['quantity'].apply(lambda x: x/num_week)\n",
    "        new_f_1.columns = ['item_id', 'quantity_per_week']\n",
    "        new_f_1 = new_f_1.merge(data[['item_id','department'] ], on= 'item_id', how='left')        \n",
    "        \n",
    "        depar = data.groupby(['department'])['quantity'].sum().reset_index()\n",
    "        depar['quantity'] = depar['quantity'].apply(lambda x: x/num_week)\n",
    "        depar.columns = ['department', 'quantity_depar']\n",
    "        new_f_i = new_f_1.merge(depar, on='department', how='left')\n",
    "        new_f_i['one_quantyti_per_all_quantyti'] = new_f_i['quantity_per_week']/new_f_i['quantity_depar']\n",
    "        new_f_i.drop('department', inplace=True, axis=1)      \n",
    "        return new_f_i\n",
    "    \n",
    "    \n",
    "    def fit_transform(self, data_train_lvl_2, item_features, user_features):       \n",
    "        self.item_features = item_features\n",
    "        self.user_features = user_features\n",
    "        \n",
    "        self.new_f_u = self.new_features_user(data_train_lvl_2, item_features)\n",
    "        self.new_f_i = self.new_features_item(data_train_lvl_2, item_features)        \n",
    "        \n",
    "        users_lvl_2 = pd.DataFrame(data_train_lvl_2['user_id'].unique())\n",
    "        users_lvl_2.columns = ['user_id']\n",
    "        self.train_users = data_train_lvl_1['user_id'].unique()\n",
    "        users_lvl_2 = users_lvl_2[users_lvl_2['user_id'].isin(self.train_users)]\n",
    "        users_lvl_2['candidates'] = users_lvl_2['user_id'].apply(lambda x: self.model.get_own_recommendations(x, N=self.N))\n",
    "\n",
    "        s = users_lvl_2.apply(lambda x: pd.Series(x['candidates']), axis=1).stack().reset_index(level=1, drop=True)\n",
    "        s.name = 'item_id'\n",
    "        users_lvl_2 = users_lvl_2.drop('candidates', axis=1).join(s)\n",
    "        users_lvl_2['flag'] = 1        \n",
    "\n",
    "        targets_lvl_2 = data_train_lvl_2[['user_id', 'item_id']].copy()\n",
    "        targets_lvl_2['target'] = 1 \n",
    "        targets_lvl_2 = users_lvl_2.merge(targets_lvl_2, on=['user_id', 'item_id'], how='left')\n",
    "        targets_lvl_2['target'].fillna(0, inplace= True)\n",
    "        targets_lvl_2.drop('flag', axis=1, inplace=True)        \n",
    "        \n",
    "        targets_lvl_2 = targets_lvl_2.merge(item_features, on='item_id', how='left')\n",
    "        targets_lvl_2 = targets_lvl_2.merge(user_features, on='user_id', how='left')\n",
    "\n",
    "        targets_lvl_2 = targets_lvl_2.merge(self.new_f_u, on= ['user_id', 'department'], how='left')     \n",
    "        targets_lvl_2 = targets_lvl_2.merge(self.new_f_i, on= 'item_id', how='left')             \n",
    "      \n",
    "        X_train = targets_lvl_2.drop('target', axis=1)\n",
    "        y_train = targets_lvl_2[['target']]\n",
    "        \n",
    "        self.cat_feats = X_train.columns[2:15].tolist()\n",
    "        X_train[self.cat_feats] = X_train[self.cat_feats].astype('category')\n",
    "        return X_train, y_train\n",
    "        \n",
    "\n",
    "    def transform(self, data_val_lvl_2):          \n",
    "        users_lvl_2 = pd.DataFrame(data_val_lvl_2['user_id'].unique())\n",
    "        users_lvl_2.columns = ['user_id']\n",
    "        users_lvl_2 = users_lvl_2[users_lvl_2['user_id'].isin(self.train_users)]\n",
    "        users_lvl_2['candidates'] = users_lvl_2['user_id'].apply(lambda x: self.model.get_own_recommendations(x, N=self.N))        \n",
    "\n",
    "        s = users_lvl_2.apply(lambda x: pd.Series(x['candidates']), axis=1).stack().reset_index(level=1, drop=True)\n",
    "        s.name = 'item_id'\n",
    "        users_lvl_2 = users_lvl_2.drop('candidates', axis=1).join(s)\n",
    "        users_lvl_2['flag'] = 1          \n",
    "        \n",
    "        targets_lvl_2 = data_val_lvl_2[['user_id', 'item_id']].copy()\n",
    "        targets_lvl_2 = users_lvl_2.merge(targets_lvl_2, on=['user_id', 'item_id'], how='left')\n",
    "        \n",
    "        targets_lvl_2.drop('flag', axis=1, inplace=True)\n",
    "        targets_lvl_2 = targets_lvl_2.merge(self.item_features, on='item_id', how='left')\n",
    "        targets_lvl_2 = targets_lvl_2.merge(self.user_features, on='user_id', how='left')\n",
    "        targets_lvl_2 = targets_lvl_2.merge(self.new_f_u, on= ['user_id', 'department'], how='left')           \n",
    "        targets_lvl_2 = targets_lvl_2.merge(self.new_f_i, on= 'item_id', how='left')        \n",
    "        \n",
    "        X_train = targets_lvl_2\n",
    "        X_train[self.cat_feats] = X_train[self.cat_feats].astype('category')\n",
    "        return X_train\n",
    "        \n",
    "        \n",
    "        \n",
    "    def fit(self, X_train, y_train):\n",
    "        self.lgb = LGBMClassifier(objective='binary', max_depth=7, categorical_column=self.cat_feats, random_state=42)\n",
    "        self.lgb.fit(X_train, y_train)\n",
    "        \n",
    "    def predict(self, X_train):\n",
    "        train_preds = self.lgb.predict(X_train)\n",
    "        return train_preds\n",
    "    \n",
    "    def predict_user_list(self, X_train, extend=True):\n",
    "        '''\n",
    "        extend=True - дополняент рекоммендации по N=5 используя популярные товары\n",
    "        '''\n",
    "        train_preds = self.lgb.predict(X_train)\n",
    "        res = X_train.copy()     \n",
    "        res['predict'] = train_preds\n",
    "        res = res.loc[res['predict']==1]\n",
    "        res = res.groupby('user_id')['item_id'].agg(set).reset_index()\n",
    "        res['pred_item'] = res['item_id'].apply(lambda x: list(x))\n",
    "        res.drop('item_id', inplace=True, axis=1)        \n",
    "        if extend:\n",
    "            res['pred_item'] = res['pred_item'].apply(lambda x: self.model._extend_with_top_popular(x, N=5))\n",
    "        return res      \n",
    "        \n",
    "        \n",
    "        "
   ]
  },
  {
   "cell_type": "code",
   "execution_count": null,
   "metadata": {},
   "outputs": [],
   "source": []
  },
  {
   "cell_type": "code",
   "execution_count": 17,
   "metadata": {},
   "outputs": [
    {
     "name": "stderr",
     "output_type": "stream",
     "text": [
      "C:\\anaconda3\\lib\\site-packages\\sklearn\\utils\\validation.py:63: DataConversionWarning: A column-vector y was passed when a 1d array was expected. Please change the shape of y to (n_samples, ), for example using ravel().\n",
      "  return f(*args, **kwargs)\n",
      "C:\\anaconda3\\lib\\site-packages\\lightgbm\\basic.py:1513: UserWarning: categorical_column in param dict is overridden.\n",
      "  _log_warning(f'{cat_alias} in param dict is overridden.')\n"
     ]
    },
    {
     "data": {
      "text/plain": [
       "(3972650, 22)"
      ]
     },
     "execution_count": 17,
     "metadata": {},
     "output_type": "execute_result"
    }
   ],
   "source": [
    "model = Preprocessing(recommender)\n",
    "X_train, y_train = model.fit_transform(data_train_lvl_2, item_features, user_features)\n",
    "model.fit(X_train, y_train)\n",
    "X_train.shape"
   ]
  },
  {
   "cell_type": "code",
   "execution_count": 18,
   "metadata": {},
   "outputs": [
    {
     "data": {
      "text/plain": [
       "(3533692, 22)"
      ]
     },
     "execution_count": 18,
     "metadata": {},
     "output_type": "execute_result"
    }
   ],
   "source": [
    "X_val = model.transform(data_val_lvl_2)\n",
    "X_val.shape\n",
    "# model.predict(X)"
   ]
  },
  {
   "cell_type": "code",
   "execution_count": 19,
   "metadata": {},
   "outputs": [
    {
     "name": "stdout",
     "output_type": "stream",
     "text": [
      "(3533692, 22) (3972650, 22)\n"
     ]
    }
   ],
   "source": [
    "pred = model.predict_user_list(X_val, extend=False)\n",
    "train = model.predict_user_list(X_train, extend=False)\n",
    "print(X_val.shape, X_train.shape)\n",
    "\n",
    "pred_ex = model.predict_user_list(X_val, extend=True)\n",
    "train_ex = model.predict_user_list(X_train, extend=True)\n",
    "\n",
    "train.columns = ['user_id','train_item']\n",
    "train_ex.columns = ['user_id','train_ex_item']\n",
    "pred_ex.columns =  ['user_id','pred_ex_item']"
   ]
  },
  {
   "cell_type": "code",
   "execution_count": 20,
   "metadata": {},
   "outputs": [],
   "source": [
    "result_lvl_1 = result_lvl_1.merge(pred, on='user_id')\n",
    "result_lvl_1 = result_lvl_1.merge(train, on='user_id')\n",
    "result_lvl_1 = result_lvl_1.merge(pred_ex, on='user_id')\n",
    "result_lvl_1 = result_lvl_1.merge(train_ex, on='user_id')"
   ]
  },
  {
   "cell_type": "code",
   "execution_count": 21,
   "metadata": {},
   "outputs": [],
   "source": [
    "re = data_val_lvl_2.groupby('user_id')['item_id'].unique().reset_index()\n",
    "re.columns=['user_id', 'actual_v2']\n",
    "result_lvl_1 = result_lvl_1.merge(re, on='user_id')"
   ]
  },
  {
   "cell_type": "code",
   "execution_count": 22,
   "metadata": {
    "scrolled": false
   },
   "outputs": [],
   "source": [
    "result_lvl_1['precision_pred'] = result_lvl_1['user_id'].apply(lambda x: precision_at_k(list(result_lvl_1.loc[result_lvl_1['user_id']==x, 'pred_item'])[0],\\\n",
    "                                                          list(result_lvl_1.loc[result_lvl_1['user_id']==x, 'actual_v2'])[0], k=N))    "
   ]
  },
  {
   "cell_type": "code",
   "execution_count": 23,
   "metadata": {},
   "outputs": [],
   "source": [
    "result_lvl_1['precision_train'] = result_lvl_1['user_id'].apply(lambda x: precision_at_k(list(result_lvl_1.loc[result_lvl_1['user_id']==x, 'train_item'])[0],\\\n",
    "                                                          list(result_lvl_1.loc[result_lvl_1['user_id']==x, 'actual'])[0], k=N))   "
   ]
  },
  {
   "cell_type": "code",
   "execution_count": 24,
   "metadata": {},
   "outputs": [],
   "source": [
    "result_lvl_1['precision_ex_pred'] = result_lvl_1['user_id'].apply(lambda x: precision_at_k(list(result_lvl_1.loc[result_lvl_1['user_id']==x, 'pred_ex_item'])[0],\\\n",
    "                                                          list(result_lvl_1.loc[result_lvl_1['user_id']==x, 'actual_v2'])[0], k=N)) "
   ]
  },
  {
   "cell_type": "code",
   "execution_count": 25,
   "metadata": {},
   "outputs": [],
   "source": [
    "result_lvl_1['precision_ex_train'] = result_lvl_1['user_id'].apply(lambda x: precision_at_k(list(result_lvl_1.loc[result_lvl_1['user_id']==x, 'train_ex_item'])[0],\\\n",
    "                                                          list(result_lvl_1.loc[result_lvl_1['user_id']==x, 'actual'])[0], k=N)) "
   ]
  },
  {
   "cell_type": "code",
   "execution_count": 26,
   "metadata": {},
   "outputs": [],
   "source": [
    "result_lvl_1['precision_own_recommendations'] = result_lvl_1['user_id'].apply(lambda x: precision_at_k(list(result_lvl_1.loc[result_lvl_1['user_id']==x, 'own_recommendations'])[0],\\\n",
    "                                                          list(result_lvl_1.loc[result_lvl_1['user_id']==x, 'actual'])[0], k=N))   "
   ]
  },
  {
   "cell_type": "code",
   "execution_count": null,
   "metadata": {},
   "outputs": [],
   "source": []
  },
  {
   "cell_type": "code",
   "execution_count": 27,
   "metadata": {},
   "outputs": [
    {
     "name": "stdout",
     "output_type": "stream",
     "text": [
      "Precision на валидационной выборке: 0.38857531532942413\n"
     ]
    }
   ],
   "source": [
    " print(f\"Precision на валидационной выборке: {result_lvl_1['precision_pred'].mean()}\")  "
   ]
  },
  {
   "cell_type": "code",
   "execution_count": 28,
   "metadata": {},
   "outputs": [
    {
     "name": "stdout",
     "output_type": "stream",
     "text": [
      "Precision на валидационной выборке при условии дополнения рекоммендаций до N=5\n",
      " (из категории популярные товары): 0.26982268153254185\n"
     ]
    }
   ],
   "source": [
    " print(f\"Precision на валидационной выборке при условии дополнения рекоммендаций до N=5\\n\",\n",
    "       f\"(из категории популярные товары): {result_lvl_1['precision_ex_pred'].mean()}\")"
   ]
  },
  {
   "cell_type": "code",
   "execution_count": 29,
   "metadata": {},
   "outputs": [
    {
     "name": "stdout",
     "output_type": "stream",
     "text": [
      "Precision на обучающей выборке: 0.7660424910108852\n"
     ]
    }
   ],
   "source": [
    " print(f\"Precision на обучающей выборке: {result_lvl_1['precision_train'].mean()}\")  "
   ]
  },
  {
   "cell_type": "code",
   "execution_count": 30,
   "metadata": {},
   "outputs": [
    {
     "name": "stdout",
     "output_type": "stream",
     "text": [
      "Precision на обучающей выборке при условии дополнения рекоммендаций до N=5\n",
      " (из категории популярные товары): 0.47008800302099746\n"
     ]
    }
   ],
   "source": [
    " print(f\"Precision на обучающей выборке при условии дополнения рекоммендаций до N=5\\n\",\n",
    "       f\"(из категории популярные товары): {result_lvl_1['precision_ex_train'].mean()}\")"
   ]
  },
  {
   "cell_type": "code",
   "execution_count": 31,
   "metadata": {},
   "outputs": [
    {
     "name": "stdout",
     "output_type": "stream",
     "text": [
      "Precision на первой модели при генерации при помощи own_recommendations: 0.13552465233881186\n"
     ]
    }
   ],
   "source": [
    " print(f\"Precision на первой модели при генерации при помощи own_recommendations: {result_lvl_1['precision_own_recommendations'].mean()}\")  "
   ]
  }
 ],
 "metadata": {
  "colab": {
   "collapsed_sections": [],
   "name": "Копия блокнота \"hw_webinar_6.ipynb\"",
   "provenance": [
    {
     "file_id": "1qOWvqA8HGpXuuM5wrd9bEC3rK9ocjmMZ",
     "timestamp": 1650354752610
    },
    {
     "file_id": "1kKyhFBiYd1x2G_zt0dK9ul7moCj7n8hI",
     "timestamp": 1634972428169
    }
   ]
  },
  "kernelspec": {
   "display_name": "Python 3 (ipykernel)",
   "language": "python",
   "name": "python3"
  },
  "language_info": {
   "codemirror_mode": {
    "name": "ipython",
    "version": 3
   },
   "file_extension": ".py",
   "mimetype": "text/x-python",
   "name": "python",
   "nbconvert_exporter": "python",
   "pygments_lexer": "ipython3",
   "version": "3.9.7"
  }
 },
 "nbformat": 4,
 "nbformat_minor": 1
}
