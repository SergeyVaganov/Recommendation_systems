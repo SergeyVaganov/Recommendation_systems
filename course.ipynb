{
 "cells": [
  {
   "cell_type": "code",
   "execution_count": 1,
   "id": "41be8e5b",
   "metadata": {},
   "outputs": [],
   "source": [
    "import pandas as pd\n",
    "import numpy as np\n",
    "\n",
    "from src.metrics import precision_at_k, recall_at_k\n",
    "from src.utils import split_data, prefilter_items\n",
    "from src.recommenders import MainRecommender, SecondRecommender\n",
    "\n",
    "import warnings\n",
    "warnings.filterwarnings('ignore')"
   ]
  },
  {
   "cell_type": "code",
   "execution_count": 2,
   "id": "38ba5cf4",
   "metadata": {},
   "outputs": [],
   "source": [
    "data = pd.read_csv('retail_train.csv')\n",
    "item_features = pd.read_csv('product.csv')\n",
    "user_features = pd.read_csv('hh_demographic.csv')\n",
    "\n",
    "# column processing\n",
    "item_features.columns = [col.lower() for col in item_features.columns]\n",
    "user_features.columns = [col.lower() for col in user_features.columns]\n",
    "\n",
    "item_features.rename(columns={'product_id': 'item_id'}, inplace=True)\n",
    "user_features.rename(columns={'household_key': 'user_id'}, inplace=True)"
   ]
  },
  {
   "cell_type": "code",
   "execution_count": 3,
   "id": "88fb8e0b",
   "metadata": {},
   "outputs": [],
   "source": [
    "train_lvl_1, test_lvl_1, train_lvl_2, test_lvl_2 = split_data(data)"
   ]
  },
  {
   "cell_type": "code",
   "execution_count": 4,
   "id": "54f3f925",
   "metadata": {},
   "outputs": [],
   "source": [
    "train_lvl_1 = prefilter_items(train_lvl_1, item_features=item_features, take_n_popular=2500)"
   ]
  },
  {
   "cell_type": "code",
   "execution_count": 5,
   "id": "671430e5",
   "metadata": {},
   "outputs": [
    {
     "name": "stderr",
     "output_type": "stream",
     "text": [
      "WARNING:root:Intel MKL BLAS detected. Its highly recommend to set the environment variable 'export MKL_NUM_THREADS=1' to disable its internal multithreading\n"
     ]
    },
    {
     "data": {
      "application/vnd.jupyter.widget-view+json": {
       "model_id": "852b328bacfb403fb41ee07a8e37e7b6",
       "version_major": 2,
       "version_minor": 0
      },
      "text/plain": [
       "  0%|          | 0/30 [00:00<?, ?it/s]"
      ]
     },
     "metadata": {},
     "output_type": "display_data"
    },
    {
     "data": {
      "application/vnd.jupyter.widget-view+json": {
       "model_id": "d92de1b7960c45c9939737f18e4fae2f",
       "version_major": 2,
       "version_minor": 0
      },
      "text/plain": [
       "  0%|          | 0/2501 [00:00<?, ?it/s]"
      ]
     },
     "metadata": {},
     "output_type": "display_data"
    }
   ],
   "source": [
    "recommender_lvl_1 = MainRecommender(train_lvl_1)"
   ]
  },
  {
   "cell_type": "code",
   "execution_count": 6,
   "id": "4206750b",
   "metadata": {},
   "outputs": [],
   "source": [
    "model = SecondRecommender(recommender_lvl_1)\n",
    "X_train, y_train = model.fit_transform(train_lvl_2, item_features, user_features)\n",
    "model.fit(X_train, y_train)"
   ]
  },
  {
   "cell_type": "code",
   "execution_count": 7,
   "id": "53f84baa",
   "metadata": {},
   "outputs": [],
   "source": [
    "X_test = model.transform(test_lvl_2)\n",
    "pred_ex_lvl_2 = model.predict_user_list(X_test, extend=True)\n",
    "pred_ex_lvl_2.columns =  ['user_id','pred_ex_item']"
   ]
  },
  {
   "cell_type": "code",
   "execution_count": 8,
   "id": "23f9e838",
   "metadata": {},
   "outputs": [
    {
     "name": "stdout",
     "output_type": "stream",
     "text": [
      "Precision на валидационной выборке N=5: 0.4120192307692309\n"
     ]
    }
   ],
   "source": [
    "result = test_lvl_2.groupby('user_id')['item_id'].unique().reset_index()\n",
    "result.columns=['user_id', 'actual_lvl_2']\n",
    "result = result.merge(pred_ex_lvl_2, on='user_id')\n",
    "result['precision'] = result['user_id'].apply(lambda x: precision_at_k(list(result.loc[result['user_id']==x, \\\n",
    "                                        'pred_ex_item'])[0], list(result.loc[result['user_id']==x, 'actual_lvl_2'])[0], k=5)) \n",
    "print(f\"Precision на валидационной выборке N=5: {result['precision'].mean()}\")"
   ]
  },
  {
   "cell_type": "code",
   "execution_count": 9,
   "id": "89237373",
   "metadata": {},
   "outputs": [],
   "source": [
    "result[['user_id','pred_ex_item']].to_csv('recommendations.csv', index=False)"
   ]
  }
 ],
 "metadata": {
  "kernelspec": {
   "display_name": "Python 3 (ipykernel)",
   "language": "python",
   "name": "python3"
  },
  "language_info": {
   "codemirror_mode": {
    "name": "ipython",
    "version": 3
   },
   "file_extension": ".py",
   "mimetype": "text/x-python",
   "name": "python",
   "nbconvert_exporter": "python",
   "pygments_lexer": "ipython3",
   "version": "3.9.7"
  }
 },
 "nbformat": 4,
 "nbformat_minor": 5
}
