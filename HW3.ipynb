{
 "cells": [
  {
   "cell_type": "markdown",
   "metadata": {
    "id": "AnG9DXhe49cH"
   },
   "source": [
    "## Теоретическая часть"
   ]
  },
  {
   "cell_type": "markdown",
   "metadata": {
    "id": "RxDIQTAh49cO"
   },
   "source": [
    "#### 1. Вспомним прошлый вебинар, мы рассматривали User-User рекомендации и Item-Item рекомендации. Чем они отличаются и чем они похожи? Если есть функция item_item_rec(interaction_matrix). Можно ли использовать эту функцию для user_user_rec? <br>В чем принципиальные отличия item-item рекомендаций от ALS?\n"
   ]
  },
  {
   "cell_type": "markdown",
   "metadata": {},
   "source": [
    " - Рекомендации осуществляются на основе похожести пользователей для User-User фильтрации и похожести объектов (товаров) для Item-Item фильтрации. Схожесть подходов в том что по сути — это один и тот же алгоритм. Существуют различные алгоритмы. Один из них — использовать косинусное расстояние между векторами, описывающими пользователей и объекты. Отличие в том что в качестве оценки используются описания пользователей в другом случае объекты .\n",
    " -  Как говорилось выше по сути — это один и тот же алгоритм, но во втором случае необходимо использовать транспонированную матрицу  оценок (interaction_matrix)\n",
    " - Принципиальное отличие  ALS и Item-Item заключается в алгоритме предсказания. В Item-Item предсказание основывается на к-ближайших соседей, а ALS основано на факторизации матрицы interaction_matrix, объединении объектов в группы (факторы, ембединги). \n",
    " \n",
    " "
   ]
  },
  {
   "cell_type": "markdown",
   "metadata": {
    "id": "XnuQ5DDD49cP"
   },
   "source": [
    "#### 2. Приведите 3 примера весов (те, которых не было на вебинаре: сумма покупок, количество покупок - неинтересно) user-item матрицы для задачи рекомендаций товаров \n"
   ]
  },
  {
   "cell_type": "markdown",
   "metadata": {},
   "source": [
    "1. $value_w = \\sum_i quantity_i * \\frac{1}{1 + e^{ \\alpha*(91-t)}}$, \n",
    "\n",
    " - $t$ - время в неделях\n",
    "\n",
    " \n",
    " Смысл использования данный весов заключается в увеличении вклада покупок которые были совершены в ближайшее время и чем дальше покупка отстоит по времени тем меньше её вклад в вес\n",
    " \n",
    "2. $value_w = \\sum_i quantity_i * \\frac{1}{\\sigma*\\sqrt{2\\pi}}*\\exp^{\\frac{-(\\mu - t)^2}{2\\sigma^2}}$\n",
    "\n",
    " - $\\mu$ - математическое ожидание равное 93-53\n",
    "\n",
    " Мы прогнозируем продажи которые буду происходить в следующие 4 недели. Продажа товаров сезонный процесс. И можно предположить что наиболее востребованные товары будут те которые продавались в это время год назад. Поэтому математическое ожидание будет вычисляться из центральной неделе предсказания 94 минус 53 (число недель в году). Стандартным отклонением регулируем ширину окна в котором покупки будут иметь наибольшую важность.\n",
    " \n",
    "\n",
    "3. $value_w = |\\{x  |  f(x)>C\\}|$\n",
    "\n",
    " - $f(x)= x*\\frac{1}{\\sigma*\\sqrt{2\\pi}}*\\exp^{\\frac{-(\\mu - t)^2}{2\\sigma^2}}$\n",
    " - С - уровень при котором покупка исключается из множества\n",
    " - $x = quantity$\n",
    " \n",
    " Смысл формулы расчёта весов схож с пунктом 2, только в этот раз мы считаем количество фактов покупки (функция агрегации - 'count'), для этого все полученные весов ниже уровня С мы исключаем из расчёта присваивая nan\n",
    " \n",
    " \n",
    "4. $value_w = |\\{x  |  f(x)>C\\}|$\n",
    "\n",
    " - $f(x)= x * \\frac{1}{1 + e^{ \\alpha*(91-t)}}$\n",
    " - С - уровень при котором покупка исключается из множества\n",
    " - $x = quantity$ \n",
    " \n",
    " \n",
    "5. Возможных вариантов для поиска наилучшего решения много. По аналогии можно предложить замену $f(x)$ на любую другу функцию ограничивающую покупки во времени скажем $\\frac{1}{91-t}$ или иную. Так же можно изменить функцию агрегации, скажем поставить max, или mean  \n",
    " \n"
   ]
  },
  {
   "cell_type": "markdown",
   "metadata": {
    "id": "UmKifKo649cQ"
   },
   "source": [
    "#### 3. Какие ограничения есть у ALS? (Тип информации, линейность/нелинейность факторов и т д)\n"
   ]
  },
  {
   "cell_type": "markdown",
   "metadata": {},
   "source": [
    "тип данных - float, линейная зависимость факторов."
   ]
  },
  {
   "cell_type": "markdown",
   "metadata": {
    "id": "ZFhlzsTb49cR"
   },
   "source": [
    "## Практическая часть\n"
   ]
  },
  {
   "cell_type": "markdown",
   "metadata": {},
   "source": [
    "### Подбор матрицы $c_{ui}$\n",
    "Попробуйте различные варианты матрицы весов (3+ вариантов). Обучите алгоритм для различных $C$. В качестве результата приведите таблицу: матрица весов - результат на train и validation.\n",
    "Сделате качественные выводы."
   ]
  },
  {
   "cell_type": "markdown",
   "metadata": {},
   "source": [
    "### Оптимизация гипперпараметров\n",
    "Для лучшей матрицы весов из первого задания подберите оптимальные $\\lambda$ и n_factors. Подбор можно делать вручную (цикл в цикле, аналог sklearn.GridSearch, или случайно - sklearn.RandomSearch). Или Вы можете воспользоваться библиотеками для автоматического подбора гипперпараметров (любые на Ваш вкус). В качестве результата постройте графики:\n",
    "1. Значение параметра - время обучения \n",
    "2. Значение параметра - качество train, качество validation  \n",
    "\n",
    "Сделайте качественные выводы"
   ]
  },
  {
   "cell_type": "code",
   "execution_count": 1,
   "metadata": {
    "id": "qI6TyXCL49cS"
   },
   "outputs": [],
   "source": [
    "import pandas as pd\n",
    "import numpy as np\n",
    "import matplotlib.pyplot as plt\n",
    "%matplotlib inline\n",
    "\n",
    "# Для работы с матрицами\n",
    "from scipy.sparse import csr_matrix\n",
    "\n",
    "# Матричная факторизация\n",
    "from implicit.als import AlternatingLeastSquares as ALS\n",
    "from implicit.nearest_neighbours import bm25_weight, tfidf_weight\n",
    "\n",
    "# Функции из 1-ого вебинара\n",
    "import os, sys\n"
   ]
  },
  {
   "cell_type": "code",
   "execution_count": 2,
   "metadata": {},
   "outputs": [
    {
     "data": {
      "text/plain": [
       "'0.5.2'"
      ]
     },
     "execution_count": 2,
     "metadata": {},
     "output_type": "execute_result"
    }
   ],
   "source": [
    "import implicit\n",
    "implicit.__version__"
   ]
  },
  {
   "cell_type": "markdown",
   "metadata": {},
   "source": [
    "implicit.__version__ = 0.5.2"
   ]
  },
  {
   "cell_type": "code",
   "execution_count": 3,
   "metadata": {},
   "outputs": [],
   "source": [
    "def precision_at_k(recommended_list, bought_list, k=5):\n",
    "    \n",
    "    bought_list = np.array(bought_list)\n",
    "    recommended_list = np.array(recommended_list)\n",
    "    \n",
    "    bought_list = bought_list  # Тут нет [:k] !!\n",
    "    recommended_list = recommended_list[:k]\n",
    "    \n",
    "    flags = np.isin(bought_list, recommended_list)\n",
    "    \n",
    "    precision = flags.sum() / len(recommended_list)\n",
    "    \n",
    "    \n",
    "    return precision"
   ]
  },
  {
   "cell_type": "code",
   "execution_count": 4,
   "metadata": {},
   "outputs": [],
   "source": [
    "def get_recommendations(user, model, sp_ui, N=5):\n",
    "    res = model.recommend(userid=userid_to_id[user], \n",
    "                                    user_items=sp_ui[userid_to_id[user]],   # на вход user-item matrix\n",
    "                                    N=N, \n",
    "                                    filter_already_liked_items=False, \n",
    "                                    filter_items=[itemid_to_id[999999]], \n",
    "                                    recalculate_user=True)\n",
    "    \n",
    "    ress = [id_to_itemid[rec] for rec in res[0]]\n",
    "    return ress"
   ]
  },
  {
   "cell_type": "code",
   "execution_count": 5,
   "metadata": {
    "colab": {
     "base_uri": "https://localhost:8080/",
     "height": 111
    },
    "executionInfo": {
     "elapsed": 4557,
     "status": "ok",
     "timestamp": 1634549218008,
     "user": {
      "displayName": "Николай -",
      "photoUrl": "https://lh3.googleusercontent.com/a-/AOh14GiCS90olAsBznR3WLZOaJ5ukcv2LPYBRWvHEQUZ-A=s64",
      "userId": "17372739142422056321"
     },
     "user_tz": -180
    },
    "id": "LsYDeTEC49cU",
    "outputId": "d1246437-ea35-456e-b859-cca0b9abc21f"
   },
   "outputs": [],
   "source": [
    "data = pd.read_csv('retail_train.csv')\n",
    "\n",
    "data.columns = [col.lower() for col in data.columns]\n",
    "data.rename(columns={'household_key': 'user_id',\n",
    "                    'product_id': 'item_id'},\n",
    "           inplace=True)\n",
    "\n",
    "\n",
    "test_size_weeks = 3\n",
    "\n",
    "data_train = data[data['week_no'] < data['week_no'].max() - test_size_weeks]\n",
    "data_test = data[data['week_no'] >= data['week_no'].max() - test_size_weeks]"
   ]
  },
  {
   "cell_type": "code",
   "execution_count": 6,
   "metadata": {},
   "outputs": [
    {
     "data": {
      "text/html": [
       "<div>\n",
       "<style scoped>\n",
       "    .dataframe tbody tr th:only-of-type {\n",
       "        vertical-align: middle;\n",
       "    }\n",
       "\n",
       "    .dataframe tbody tr th {\n",
       "        vertical-align: top;\n",
       "    }\n",
       "\n",
       "    .dataframe thead th {\n",
       "        text-align: right;\n",
       "    }\n",
       "</style>\n",
       "<table border=\"1\" class=\"dataframe\">\n",
       "  <thead>\n",
       "    <tr style=\"text-align: right;\">\n",
       "      <th></th>\n",
       "      <th>user_id</th>\n",
       "      <th>basket_id</th>\n",
       "      <th>day</th>\n",
       "      <th>item_id</th>\n",
       "      <th>quantity</th>\n",
       "      <th>sales_value</th>\n",
       "      <th>store_id</th>\n",
       "      <th>retail_disc</th>\n",
       "      <th>trans_time</th>\n",
       "      <th>week_no</th>\n",
       "      <th>coupon_disc</th>\n",
       "      <th>coupon_match_disc</th>\n",
       "    </tr>\n",
       "  </thead>\n",
       "  <tbody>\n",
       "    <tr>\n",
       "      <th>2277416</th>\n",
       "      <td>338</td>\n",
       "      <td>41260573635</td>\n",
       "      <td>636</td>\n",
       "      <td>840173</td>\n",
       "      <td>1</td>\n",
       "      <td>1.99</td>\n",
       "      <td>369</td>\n",
       "      <td>0.0</td>\n",
       "      <td>112</td>\n",
       "      <td>92</td>\n",
       "      <td>0.0</td>\n",
       "      <td>0.0</td>\n",
       "    </tr>\n",
       "    <tr>\n",
       "      <th>2277417</th>\n",
       "      <td>338</td>\n",
       "      <td>41260573635</td>\n",
       "      <td>636</td>\n",
       "      <td>1037348</td>\n",
       "      <td>1</td>\n",
       "      <td>0.89</td>\n",
       "      <td>369</td>\n",
       "      <td>-0.3</td>\n",
       "      <td>112</td>\n",
       "      <td>92</td>\n",
       "      <td>0.0</td>\n",
       "      <td>0.0</td>\n",
       "    </tr>\n",
       "  </tbody>\n",
       "</table>\n",
       "</div>"
      ],
      "text/plain": [
       "         user_id    basket_id  day  item_id  quantity  sales_value  store_id  \\\n",
       "2277416      338  41260573635  636   840173         1         1.99       369   \n",
       "2277417      338  41260573635  636  1037348         1         0.89       369   \n",
       "\n",
       "         retail_disc  trans_time  week_no  coupon_disc  coupon_match_disc  \n",
       "2277416          0.0         112       92          0.0                0.0  \n",
       "2277417         -0.3         112       92          0.0                0.0  "
      ]
     },
     "execution_count": 6,
     "metadata": {},
     "output_type": "execute_result"
    }
   ],
   "source": [
    "data_test.head(2)"
   ]
  },
  {
   "cell_type": "code",
   "execution_count": 7,
   "metadata": {},
   "outputs": [
    {
     "data": {
      "text/html": [
       "<div>\n",
       "<style scoped>\n",
       "    .dataframe tbody tr th:only-of-type {\n",
       "        vertical-align: middle;\n",
       "    }\n",
       "\n",
       "    .dataframe tbody tr th {\n",
       "        vertical-align: top;\n",
       "    }\n",
       "\n",
       "    .dataframe thead th {\n",
       "        text-align: right;\n",
       "    }\n",
       "</style>\n",
       "<table border=\"1\" class=\"dataframe\">\n",
       "  <thead>\n",
       "    <tr style=\"text-align: right;\">\n",
       "      <th></th>\n",
       "      <th>user_id</th>\n",
       "      <th>actual</th>\n",
       "      <th>actual_train</th>\n",
       "    </tr>\n",
       "  </thead>\n",
       "  <tbody>\n",
       "    <tr>\n",
       "      <th>0</th>\n",
       "      <td>1</td>\n",
       "      <td>[821867, 834484, 856942, 865456, 889248, 90795...</td>\n",
       "      <td>[825123, 831447, 840361, 845307, 852014, 85498...</td>\n",
       "    </tr>\n",
       "    <tr>\n",
       "      <th>1</th>\n",
       "      <td>3</td>\n",
       "      <td>[835476, 851057, 872021, 878302, 879948, 90963...</td>\n",
       "      <td>[866211, 878996, 882830, 904360, 921345, 93194...</td>\n",
       "    </tr>\n",
       "  </tbody>\n",
       "</table>\n",
       "</div>"
      ],
      "text/plain": [
       "   user_id                                             actual  \\\n",
       "0        1  [821867, 834484, 856942, 865456, 889248, 90795...   \n",
       "1        3  [835476, 851057, 872021, 878302, 879948, 90963...   \n",
       "\n",
       "                                        actual_train  \n",
       "0  [825123, 831447, 840361, 845307, 852014, 85498...  \n",
       "1  [866211, 878996, 882830, 904360, 921345, 93194...  "
      ]
     },
     "execution_count": 7,
     "metadata": {},
     "output_type": "execute_result"
    }
   ],
   "source": [
    "result_test = data_test.groupby('user_id')['item_id'].unique().reset_index()\n",
    "result_train = data_train.groupby('user_id')['item_id'].unique().reset_index()\n",
    "result = result_test.merge(result_train, how='left', left_on='user_id', right_on='user_id')\n",
    "result.columns=['user_id', 'actual', 'actual_train']\n",
    "result.head(2)\n"
   ]
  },
  {
   "cell_type": "code",
   "execution_count": 8,
   "metadata": {},
   "outputs": [],
   "source": [
    "from copy import deepcopy"
   ]
  },
  {
   "cell_type": "code",
   "execution_count": 9,
   "metadata": {},
   "outputs": [],
   "source": [
    "data_train = deepcopy(data_train)"
   ]
  },
  {
   "cell_type": "code",
   "execution_count": 10,
   "metadata": {},
   "outputs": [],
   "source": [
    "popularity = data_train.groupby('item_id')['quantity'].sum().reset_index()\n",
    "popularity.rename(columns={'quantity': 'n_sold'}, inplace=True)\n",
    "\n",
    "top_5000 = popularity.sort_values('n_sold', ascending=False).head(5000).item_id.tolist()\n",
    "\n",
    "# Заведем фиктивный item_id (если юзер покупал товары из топ-5000, то он \"купил\" такой товар)\n",
    "data_train.loc[~data_train['item_id'].isin(top_5000), 'item_id'] = 999999"
   ]
  },
  {
   "cell_type": "markdown",
   "metadata": {},
   "source": [
    "## Рассмотрим 4 варианта весов."
   ]
  },
  {
   "cell_type": "markdown",
   "metadata": {},
   "source": [
    " \n",
    " 0. Веса на основе  столбца \"quantity\" будем использовать этот вариант как baseline\n",
    " $$value_w = \\sum_i quantity_i $$\n",
    " 1. $$value_w = \\sum_i quantity_i * \\frac{1}{1 + e^{ \\alpha*(91-t)}}$$\n",
    " 2. $$value_w = \\sum_i quantity_i * \\frac{1}{\\sigma*\\sqrt{2\\pi}}*\\exp^{\\frac{-(\\mu_1 - t)^2}{2\\sigma^2}}$$\n",
    "\n",
    " 3. $$value_w = \\sum_i quantity_i * \\frac{1}{91-t+\\epsilon}$$\n",
    " "
   ]
  },
  {
   "cell_type": "markdown",
   "metadata": {},
   "source": [
    "Каждый вариант рассмотрим с 4-я случаями агрегации ['sum', 'max', 'mean', 'count']"
   ]
  },
  {
   "cell_type": "markdown",
   "metadata": {},
   "source": [
    "подготовим под каждый вариант свой столбец"
   ]
  },
  {
   "cell_type": "code",
   "execution_count": 11,
   "metadata": {},
   "outputs": [],
   "source": [
    "data_train['vertion_0'] = data_train['quantity']"
   ]
  },
  {
   "cell_type": "code",
   "execution_count": 12,
   "metadata": {},
   "outputs": [],
   "source": [
    "data_train['vertion_0_count'] = data_train['quantity']"
   ]
  },
  {
   "cell_type": "code",
   "execution_count": 13,
   "metadata": {},
   "outputs": [],
   "source": [
    "data_train['vertion_1'] = data_train['quantity'] *(1/(1+np.exp(0.2*(91-data_train['week_no']))))"
   ]
  },
  {
   "cell_type": "code",
   "execution_count": 14,
   "metadata": {},
   "outputs": [],
   "source": [
    "data_train['vertion_1_count'] = data_train['quantity'] *(1/(1+np.exp(0.2*(91-data_train['week_no']))))\n",
    "data_train.loc[data_train['vertion_1_count']<0.04, 'vertion_1_count'] = np.nan"
   ]
  },
  {
   "cell_type": "code",
   "execution_count": 15,
   "metadata": {},
   "outputs": [],
   "source": [
    "sigma = 3\n",
    "mu1 = 94-53\n",
    "data_train['vertion_2'] = data_train['quantity']*(1/(sigma*np.sqrt(2*np.pi))*\\\n",
    "                            np.exp(-(mu1-data_train['week_no'])**2/(2*(sigma**2))))                                         "
   ]
  },
  {
   "cell_type": "code",
   "execution_count": 16,
   "metadata": {},
   "outputs": [],
   "source": [
    "data_train['vertion_2_count'] = data_train['quantity']*(1/(sigma*np.sqrt(2*np.pi))*\\\n",
    "                            np.exp(-(mu1-data_train['week_no'])**2/(2*(sigma**2))))\n",
    "data_train.loc[data_train['vertion_2_count']<0.04, 'vertion_2_count'] = np.nan"
   ]
  },
  {
   "cell_type": "code",
   "execution_count": 17,
   "metadata": {},
   "outputs": [],
   "source": [
    "data_train['vertion_3'] = data_train['quantity']*(1/(91-data_train['week_no']+0.05))"
   ]
  },
  {
   "cell_type": "code",
   "execution_count": 18,
   "metadata": {},
   "outputs": [],
   "source": [
    "data_train['vertion_3_count'] = data_train['quantity']*(1/(91-data_train['week_no']+0.05))\n",
    "data_train.loc[data_train['vertion_3_count']<0.0, 'vertion_3_count'] = np.nan"
   ]
  },
  {
   "cell_type": "markdown",
   "metadata": {},
   "source": [
    "Функции агрегеции будем перебирать в цикле, для удобства \"count\" вычислим отдельно"
   ]
  },
  {
   "cell_type": "code",
   "execution_count": 19,
   "metadata": {},
   "outputs": [],
   "source": [
    "agrr = ['sum', 'max', 'mean']"
   ]
  },
  {
   "cell_type": "code",
   "execution_count": 20,
   "metadata": {},
   "outputs": [],
   "source": [
    "def get_user_item_matrix(data_train, func, values):\n",
    "    user_item_matrix = pd.pivot_table(data_train, \n",
    "                                  index='user_id', columns='item_id', \n",
    "                                  values=values, \n",
    "                                  aggfunc=func, \n",
    "                                  fill_value=0\n",
    "                                 )\n",
    "    return user_item_matrix.astype(float)\n",
    "\n",
    "def get_dictionary(user_item_matrix):\n",
    "    userids = user_item_matrix.index.values\n",
    "    itemids = user_item_matrix.columns.values\n",
    "\n",
    "    matrix_userids = np.arange(len(userids))\n",
    "    matrix_itemids = np.arange(len(itemids))\n",
    "\n",
    "    id_to_itemid = dict(zip(matrix_itemids, itemids))\n",
    "    id_to_userid = dict(zip(matrix_userids, userids))\n",
    "\n",
    "    itemid_to_id = dict(zip(itemids, matrix_itemids))\n",
    "    userid_to_id = dict(zip(userids, matrix_userids))\n",
    "    return id_to_itemid, id_to_userid, itemid_to_id, userid_to_id\n",
    "\n",
    "def get_csr_matrix(user_item_matrix):\n",
    "    sp_user_item = csr_matrix(user_item_matrix).tocsr()\n",
    "    sp_item_user = csr_matrix(user_item_matrix).T.tocsr()\n",
    "    return sp_user_item, sp_item_user"
   ]
  },
  {
   "cell_type": "code",
   "execution_count": 21,
   "metadata": {},
   "outputs": [
    {
     "name": "stderr",
     "output_type": "stream",
     "text": [
      "C:\\anaconda3\\lib\\site-packages\\implicit\\utils.py:31: UserWarning: Intel MKL BLAS detected. Its highly recommend to set the environment variable 'export MKL_NUM_THREADS=1' to disable its internal multithreading\n",
      "  warnings.warn(\n"
     ]
    }
   ],
   "source": [
    "model = ALS(factors=44, \n",
    "                                regularization=0.01,\n",
    "                                iterations=15, \n",
    "                                random_state=21,\n",
    "                                calculate_training_loss=True, \n",
    "                                use_gpu=False)"
   ]
  },
  {
   "cell_type": "code",
   "execution_count": 22,
   "metadata": {
    "scrolled": false
   },
   "outputs": [
    {
     "data": {
      "application/vnd.jupyter.widget-view+json": {
       "model_id": "b9a3496efddf4f71b56b80a4607fdd01",
       "version_major": 2,
       "version_minor": 0
      },
      "text/plain": [
       "  0%|          | 0/15 [00:00<?, ?it/s]"
      ]
     },
     "metadata": {},
     "output_type": "display_data"
    },
    {
     "data": {
      "application/vnd.jupyter.widget-view+json": {
       "model_id": "8228c907b8cf467a85cbfb4d6b222dd4",
       "version_major": 2,
       "version_minor": 0
      },
      "text/plain": [
       "  0%|          | 0/15 [00:00<?, ?it/s]"
      ]
     },
     "metadata": {},
     "output_type": "display_data"
    },
    {
     "data": {
      "application/vnd.jupyter.widget-view+json": {
       "model_id": "1da7d871248e4beca7b8c16ff44a8b04",
       "version_major": 2,
       "version_minor": 0
      },
      "text/plain": [
       "  0%|          | 0/15 [00:00<?, ?it/s]"
      ]
     },
     "metadata": {},
     "output_type": "display_data"
    },
    {
     "data": {
      "application/vnd.jupyter.widget-view+json": {
       "model_id": "a92d9a22274f4f0fb8da0ce71c2d9832",
       "version_major": 2,
       "version_minor": 0
      },
      "text/plain": [
       "  0%|          | 0/15 [00:00<?, ?it/s]"
      ]
     },
     "metadata": {},
     "output_type": "display_data"
    },
    {
     "data": {
      "application/vnd.jupyter.widget-view+json": {
       "model_id": "05a06b72f0b1433a9a7b40fa32e2d940",
       "version_major": 2,
       "version_minor": 0
      },
      "text/plain": [
       "  0%|          | 0/15 [00:00<?, ?it/s]"
      ]
     },
     "metadata": {},
     "output_type": "display_data"
    },
    {
     "data": {
      "application/vnd.jupyter.widget-view+json": {
       "model_id": "f21eaaf54e4143259ebc599f9dfcf6a9",
       "version_major": 2,
       "version_minor": 0
      },
      "text/plain": [
       "  0%|          | 0/15 [00:00<?, ?it/s]"
      ]
     },
     "metadata": {},
     "output_type": "display_data"
    },
    {
     "data": {
      "application/vnd.jupyter.widget-view+json": {
       "model_id": "9bb6915dcd41470f9b00d38421ef33b4",
       "version_major": 2,
       "version_minor": 0
      },
      "text/plain": [
       "  0%|          | 0/15 [00:00<?, ?it/s]"
      ]
     },
     "metadata": {},
     "output_type": "display_data"
    },
    {
     "data": {
      "application/vnd.jupyter.widget-view+json": {
       "model_id": "51939c74bd684b3786dc8d59baaed221",
       "version_major": 2,
       "version_minor": 0
      },
      "text/plain": [
       "  0%|          | 0/15 [00:00<?, ?it/s]"
      ]
     },
     "metadata": {},
     "output_type": "display_data"
    },
    {
     "data": {
      "application/vnd.jupyter.widget-view+json": {
       "model_id": "7d86c9b50db347c3b469fcf85e505d3a",
       "version_major": 2,
       "version_minor": 0
      },
      "text/plain": [
       "  0%|          | 0/15 [00:00<?, ?it/s]"
      ]
     },
     "metadata": {},
     "output_type": "display_data"
    },
    {
     "data": {
      "application/vnd.jupyter.widget-view+json": {
       "model_id": "7f0bda34c6ab4b07b3de0db9f9c8c7ef",
       "version_major": 2,
       "version_minor": 0
      },
      "text/plain": [
       "  0%|          | 0/15 [00:00<?, ?it/s]"
      ]
     },
     "metadata": {},
     "output_type": "display_data"
    },
    {
     "data": {
      "application/vnd.jupyter.widget-view+json": {
       "model_id": "0821a9a063734eca827f369ff122ba1b",
       "version_major": 2,
       "version_minor": 0
      },
      "text/plain": [
       "  0%|          | 0/15 [00:00<?, ?it/s]"
      ]
     },
     "metadata": {},
     "output_type": "display_data"
    },
    {
     "data": {
      "application/vnd.jupyter.widget-view+json": {
       "model_id": "023d434f392146d38c3a8a5d4f11ba7d",
       "version_major": 2,
       "version_minor": 0
      },
      "text/plain": [
       "  0%|          | 0/15 [00:00<?, ?it/s]"
      ]
     },
     "metadata": {},
     "output_type": "display_data"
    }
   ],
   "source": [
    "precision_test = {}\n",
    "precision_train = {}\n",
    "for step in range(0, 4):\n",
    "    values = 'vertion_'+str(step)\n",
    "    precision_test[values]=[]  \n",
    "    precision_train[values]=[]      \n",
    "    for func in agrr:\n",
    "        mx = get_user_item_matrix(data_train, func, values)\n",
    "        id_to_itemid, id_to_userid, itemid_to_id, userid_to_id = get_dictionary(mx)\n",
    "        csr_ui, csr_iu = get_csr_matrix(mx)\n",
    "        model.fit(csr_ui)      \n",
    "        result[values] = result['user_id'].\\\n",
    "            apply(lambda x: get_recommendations(x, model=model, sp_ui=csr_ui, N=5))     \n",
    "        precision_test[values].append(result.apply(lambda row: precision_at_k(row[values], row['actual']), axis=1).mean())\n",
    "        precision_train[values].append(result.apply(lambda row: precision_at_k(row[values], row['actual_train']), axis=1).mean())    "
   ]
  },
  {
   "cell_type": "code",
   "execution_count": 23,
   "metadata": {
    "scrolled": false
   },
   "outputs": [
    {
     "data": {
      "application/vnd.jupyter.widget-view+json": {
       "model_id": "75f5df0d5f884195bd5a440f3954bc48",
       "version_major": 2,
       "version_minor": 0
      },
      "text/plain": [
       "  0%|          | 0/15 [00:00<?, ?it/s]"
      ]
     },
     "metadata": {},
     "output_type": "display_data"
    },
    {
     "data": {
      "application/vnd.jupyter.widget-view+json": {
       "model_id": "2a5d916b2aa640da9cbf8bf6cea004f6",
       "version_major": 2,
       "version_minor": 0
      },
      "text/plain": [
       "  0%|          | 0/15 [00:00<?, ?it/s]"
      ]
     },
     "metadata": {},
     "output_type": "display_data"
    },
    {
     "data": {
      "application/vnd.jupyter.widget-view+json": {
       "model_id": "d43facb6c1884456aeb1080459df49da",
       "version_major": 2,
       "version_minor": 0
      },
      "text/plain": [
       "  0%|          | 0/15 [00:00<?, ?it/s]"
      ]
     },
     "metadata": {},
     "output_type": "display_data"
    },
    {
     "data": {
      "application/vnd.jupyter.widget-view+json": {
       "model_id": "266e515356534f0e933be481856933ca",
       "version_major": 2,
       "version_minor": 0
      },
      "text/plain": [
       "  0%|          | 0/15 [00:00<?, ?it/s]"
      ]
     },
     "metadata": {},
     "output_type": "display_data"
    }
   ],
   "source": [
    "for step in range(0, 4):\n",
    "    values = 'vertion_'+str(step)+'_count'\n",
    "    mx = get_user_item_matrix(data_train, 'count', values)\n",
    "    id_to_itemid, id_to_userid, itemid_to_id, userid_to_id = get_dictionary(mx)\n",
    "    csr_ui, csr_iu = get_csr_matrix(mx)\n",
    "    model.fit(csr_ui)\n",
    "    result[values] = result['user_id'].\\\n",
    "            apply(lambda x: get_recommendations(x, model=model, sp_ui=csr_ui, N=5))\n",
    "    precision_test[values[:-6]].append(result.apply(lambda row: precision_at_k(row[values], row['actual']), axis=1).mean())\n",
    "    precision_train[values[:-6]].append(result.apply(lambda row: precision_at_k(row[values], row['actual_train']), axis=1).mean())        \n",
    "#     print(values[:-6], r[values[:-6]])"
   ]
  },
  {
   "cell_type": "markdown",
   "metadata": {},
   "source": [
    "## Значение precision_at_k в зависмости от функции весов на validation"
   ]
  },
  {
   "cell_type": "code",
   "execution_count": 24,
   "metadata": {},
   "outputs": [
    {
     "data": {
      "text/html": [
       "<div>\n",
       "<style scoped>\n",
       "    .dataframe tbody tr th:only-of-type {\n",
       "        vertical-align: middle;\n",
       "    }\n",
       "\n",
       "    .dataframe tbody tr th {\n",
       "        vertical-align: top;\n",
       "    }\n",
       "\n",
       "    .dataframe thead th {\n",
       "        text-align: right;\n",
       "    }\n",
       "</style>\n",
       "<table border=\"1\" class=\"dataframe\">\n",
       "  <thead>\n",
       "    <tr style=\"text-align: right;\">\n",
       "      <th></th>\n",
       "      <th>vertion_0</th>\n",
       "      <th>vertion_1</th>\n",
       "      <th>vertion_2</th>\n",
       "      <th>vertion_3</th>\n",
       "    </tr>\n",
       "    <tr>\n",
       "      <th>functions</th>\n",
       "      <th></th>\n",
       "      <th></th>\n",
       "      <th></th>\n",
       "      <th></th>\n",
       "    </tr>\n",
       "  </thead>\n",
       "  <tbody>\n",
       "    <tr>\n",
       "      <th>sum</th>\n",
       "      <td>0.169442</td>\n",
       "      <td>0.275318</td>\n",
       "      <td>0.254358</td>\n",
       "      <td>0.236043</td>\n",
       "    </tr>\n",
       "    <tr>\n",
       "      <th>max</th>\n",
       "      <td>0.182958</td>\n",
       "      <td>0.266014</td>\n",
       "      <td>0.240646</td>\n",
       "      <td>0.232419</td>\n",
       "    </tr>\n",
       "    <tr>\n",
       "      <th>mean</th>\n",
       "      <td>0.186974</td>\n",
       "      <td>0.247111</td>\n",
       "      <td>0.215965</td>\n",
       "      <td>0.211949</td>\n",
       "    </tr>\n",
       "    <tr>\n",
       "      <th>count</th>\n",
       "      <td>0.201371</td>\n",
       "      <td>0.302253</td>\n",
       "      <td>0.257395</td>\n",
       "      <td>0.206170</td>\n",
       "    </tr>\n",
       "  </tbody>\n",
       "</table>\n",
       "</div>"
      ],
      "text/plain": [
       "           vertion_0  vertion_1  vertion_2  vertion_3\n",
       "functions                                            \n",
       "sum         0.169442   0.275318   0.254358   0.236043\n",
       "max         0.182958   0.266014   0.240646   0.232419\n",
       "mean        0.186974   0.247111   0.215965   0.211949\n",
       "count       0.201371   0.302253   0.257395   0.206170"
      ]
     },
     "execution_count": 24,
     "metadata": {},
     "output_type": "execute_result"
    }
   ],
   "source": [
    "total = pd.DataFrame(precision_test)\n",
    "total.insert(0, 'functions', ['sum','max','mean', 'count'])\n",
    "total.set_index('functions', inplace=True)\n",
    "total"
   ]
  },
  {
   "cell_type": "markdown",
   "metadata": {},
   "source": [
    "## Значение precision_at_k в зависмости от функции весов на train"
   ]
  },
  {
   "cell_type": "code",
   "execution_count": 25,
   "metadata": {},
   "outputs": [
    {
     "data": {
      "text/html": [
       "<div>\n",
       "<style scoped>\n",
       "    .dataframe tbody tr th:only-of-type {\n",
       "        vertical-align: middle;\n",
       "    }\n",
       "\n",
       "    .dataframe tbody tr th {\n",
       "        vertical-align: top;\n",
       "    }\n",
       "\n",
       "    .dataframe thead th {\n",
       "        text-align: right;\n",
       "    }\n",
       "</style>\n",
       "<table border=\"1\" class=\"dataframe\">\n",
       "  <thead>\n",
       "    <tr style=\"text-align: right;\">\n",
       "      <th></th>\n",
       "      <th>vertion_0</th>\n",
       "      <th>vertion_1</th>\n",
       "      <th>vertion_2</th>\n",
       "      <th>vertion_3</th>\n",
       "    </tr>\n",
       "    <tr>\n",
       "      <th>functions</th>\n",
       "      <th></th>\n",
       "      <th></th>\n",
       "      <th></th>\n",
       "      <th></th>\n",
       "    </tr>\n",
       "  </thead>\n",
       "  <tbody>\n",
       "    <tr>\n",
       "      <th>sum</th>\n",
       "      <td>0.734574</td>\n",
       "      <td>0.836337</td>\n",
       "      <td>0.891185</td>\n",
       "      <td>0.831538</td>\n",
       "    </tr>\n",
       "    <tr>\n",
       "      <th>max</th>\n",
       "      <td>0.812341</td>\n",
       "      <td>0.881783</td>\n",
       "      <td>0.903624</td>\n",
       "      <td>0.819295</td>\n",
       "    </tr>\n",
       "    <tr>\n",
       "      <th>mean</th>\n",
       "      <td>0.831244</td>\n",
       "      <td>0.891381</td>\n",
       "      <td>0.902253</td>\n",
       "      <td>0.816552</td>\n",
       "    </tr>\n",
       "    <tr>\n",
       "      <th>count</th>\n",
       "      <td>0.814006</td>\n",
       "      <td>0.855142</td>\n",
       "      <td>0.795397</td>\n",
       "      <td>0.818903</td>\n",
       "    </tr>\n",
       "  </tbody>\n",
       "</table>\n",
       "</div>"
      ],
      "text/plain": [
       "           vertion_0  vertion_1  vertion_2  vertion_3\n",
       "functions                                            \n",
       "sum         0.734574   0.836337   0.891185   0.831538\n",
       "max         0.812341   0.881783   0.903624   0.819295\n",
       "mean        0.831244   0.891381   0.902253   0.816552\n",
       "count       0.814006   0.855142   0.795397   0.818903"
      ]
     },
     "execution_count": 25,
     "metadata": {},
     "output_type": "execute_result"
    }
   ],
   "source": [
    "total_train = pd.DataFrame(precision_train)\n",
    "total_train.insert(0, 'functions', ['sum','max','mean', 'count'])\n",
    "total_train.set_index('functions', inplace=True)\n",
    "total_train"
   ]
  },
  {
   "cell_type": "markdown",
   "metadata": {},
   "source": [
    "Вывод: \n",
    "1. Из полученных результатов видно что модели при создании модели необходимо по возможности использовать всю информацию которая имеется в датасете. Версии 1-3 учитывают помимо количественных показателей покупок еще и временную зависимость покупок. И это позволило сразу же увеличить метрики на с 0,2 до 0,3. Причём даже самая неудачная модель использующая временную информацию показывает результаты лучше чем у базовой. \n",
    "2. Использование функций агрегации 'sum','max','mean' не даёт точного ответа что же предпочтительней, в нашем примере у каждой модели это индивидуально. Поэтому на данном этапе можно сказать что выбор функции агрегации нужно осуществоять методом подбора\n",
    "3. Лучший результат показал вариант 1 с функцией агрегации \"count\", хотя каждая из этих функций (версии 1-3) имеет много гиперпараметров которые опущены в примере (всевозможные коэффициенты и множители) подбирая которые можно улучшить результаты."
   ]
  },
  {
   "cell_type": "markdown",
   "metadata": {},
   "source": [
    "## Подбор параметров"
   ]
  },
  {
   "cell_type": "code",
   "execution_count": 26,
   "metadata": {},
   "outputs": [],
   "source": [
    "import time"
   ]
  },
  {
   "cell_type": "code",
   "execution_count": 27,
   "metadata": {
    "scrolled": false
   },
   "outputs": [
    {
     "data": {
      "application/vnd.jupyter.widget-view+json": {
       "model_id": "ea95eeac03f44e95ae72507e9c4c4e5d",
       "version_major": 2,
       "version_minor": 0
      },
      "text/plain": [
       "  0%|          | 0/15 [00:00<?, ?it/s]"
      ]
     },
     "metadata": {},
     "output_type": "display_data"
    },
    {
     "data": {
      "application/vnd.jupyter.widget-view+json": {
       "model_id": "219e43995e4c40b99343a9cdc83fe75a",
       "version_major": 2,
       "version_minor": 0
      },
      "text/plain": [
       "  0%|          | 0/15 [00:00<?, ?it/s]"
      ]
     },
     "metadata": {},
     "output_type": "display_data"
    },
    {
     "data": {
      "application/vnd.jupyter.widget-view+json": {
       "model_id": "1e8c27f143b04ec9bdc995f436d4bd8a",
       "version_major": 2,
       "version_minor": 0
      },
      "text/plain": [
       "  0%|          | 0/15 [00:00<?, ?it/s]"
      ]
     },
     "metadata": {},
     "output_type": "display_data"
    },
    {
     "data": {
      "application/vnd.jupyter.widget-view+json": {
       "model_id": "fd1d95df858b4c44be542df75b59b131",
       "version_major": 2,
       "version_minor": 0
      },
      "text/plain": [
       "  0%|          | 0/15 [00:00<?, ?it/s]"
      ]
     },
     "metadata": {},
     "output_type": "display_data"
    },
    {
     "data": {
      "application/vnd.jupyter.widget-view+json": {
       "model_id": "4a5eca4218e84dc9aed3cdda8a161557",
       "version_major": 2,
       "version_minor": 0
      },
      "text/plain": [
       "  0%|          | 0/15 [00:00<?, ?it/s]"
      ]
     },
     "metadata": {},
     "output_type": "display_data"
    },
    {
     "data": {
      "application/vnd.jupyter.widget-view+json": {
       "model_id": "ae9240a8a9224140a3c7c794329e2a78",
       "version_major": 2,
       "version_minor": 0
      },
      "text/plain": [
       "  0%|          | 0/15 [00:00<?, ?it/s]"
      ]
     },
     "metadata": {},
     "output_type": "display_data"
    },
    {
     "data": {
      "application/vnd.jupyter.widget-view+json": {
       "model_id": "b1ba22da8f664530946a57344e6af5fe",
       "version_major": 2,
       "version_minor": 0
      },
      "text/plain": [
       "  0%|          | 0/15 [00:00<?, ?it/s]"
      ]
     },
     "metadata": {},
     "output_type": "display_data"
    },
    {
     "data": {
      "application/vnd.jupyter.widget-view+json": {
       "model_id": "3b701bf1c1fd497cb8ab5cfccd73a8a1",
       "version_major": 2,
       "version_minor": 0
      },
      "text/plain": [
       "  0%|          | 0/15 [00:00<?, ?it/s]"
      ]
     },
     "metadata": {},
     "output_type": "display_data"
    },
    {
     "data": {
      "application/vnd.jupyter.widget-view+json": {
       "model_id": "6eb4e1c3e67c4567a3546d0c16e613fc",
       "version_major": 2,
       "version_minor": 0
      },
      "text/plain": [
       "  0%|          | 0/15 [00:00<?, ?it/s]"
      ]
     },
     "metadata": {},
     "output_type": "display_data"
    },
    {
     "data": {
      "text/html": [
       "<div>\n",
       "<style scoped>\n",
       "    .dataframe tbody tr th:only-of-type {\n",
       "        vertical-align: middle;\n",
       "    }\n",
       "\n",
       "    .dataframe tbody tr th {\n",
       "        vertical-align: top;\n",
       "    }\n",
       "\n",
       "    .dataframe thead th {\n",
       "        text-align: right;\n",
       "    }\n",
       "</style>\n",
       "<table border=\"1\" class=\"dataframe\">\n",
       "  <thead>\n",
       "    <tr style=\"text-align: right;\">\n",
       "      <th></th>\n",
       "      <th>140</th>\n",
       "      <th>160</th>\n",
       "      <th>180</th>\n",
       "    </tr>\n",
       "    <tr>\n",
       "      <th>regular</th>\n",
       "      <th></th>\n",
       "      <th></th>\n",
       "      <th></th>\n",
       "    </tr>\n",
       "  </thead>\n",
       "  <tbody>\n",
       "    <tr>\n",
       "      <th>15.0</th>\n",
       "      <td>0.349070</td>\n",
       "      <td>0.351812</td>\n",
       "      <td>0.355926</td>\n",
       "    </tr>\n",
       "    <tr>\n",
       "      <th>20.0</th>\n",
       "      <td>0.352106</td>\n",
       "      <td>0.351616</td>\n",
       "      <td>0.352595</td>\n",
       "    </tr>\n",
       "    <tr>\n",
       "      <th>25.0</th>\n",
       "      <td>0.339373</td>\n",
       "      <td>0.340157</td>\n",
       "      <td>0.340157</td>\n",
       "    </tr>\n",
       "  </tbody>\n",
       "</table>\n",
       "</div>"
      ],
      "text/plain": [
       "              140       160       180\n",
       "regular                              \n",
       "15.0     0.349070  0.351812  0.355926\n",
       "20.0     0.352106  0.351616  0.352595\n",
       "25.0     0.339373  0.340157  0.340157"
      ]
     },
     "execution_count": 27,
     "metadata": {},
     "output_type": "execute_result"
    }
   ],
   "source": [
    "# r = {}\n",
    "factors = ['regular', 140, 160, 180]\n",
    "values = 'vertion_1_count'\n",
    "df = pd.DataFrame([], columns=factors)\n",
    "factors = factors[1:]\n",
    "for regular in [15, 20, 25]:     \n",
    "    regularization = []\n",
    "    regularization.append(regular)\n",
    "    for factor in factors:\n",
    "        model = ALS(factors=factor, regularization=regular, calculate_training_loss=True, use_gpu=False, random_state=42)\n",
    "        mx = get_user_item_matrix(data_train, 'count', values)\n",
    "        id_to_itemid, id_to_userid, itemid_to_id, userid_to_id = get_dictionary(mx)\n",
    "        csr_ui, csr_iu = get_csr_matrix(mx)\n",
    "        model.fit(csr_ui)  \n",
    "        result[values] = result['user_id'].\\\n",
    "           apply(lambda x: get_recommendations(x, model=model, sp_ui=csr_ui, N=5))\n",
    "        regularization.append(result.apply(lambda row: precision_at_k(row[values], row['actual']), axis=1).mean())\n",
    "    df.loc[len(df)] = regularization\n",
    "\n",
    "df.set_index('regular', inplace=True)\n",
    "df"
   ]
  },
  {
   "cell_type": "markdown",
   "metadata": {},
   "source": [
    "Оптимальный параметры factors=160, regularization=20, \n",
    "С точки зрения регуляризации оптимум выражается относительно чётко. \n",
    "А вот зависимость precision_at_k от n_factors монотонно увеличивающаяся функция, при малых значениях n_factors precision_at_k растёт быстро, но потом рост асимптотически замедляется, поэтому выбор оптимального значения n_factors следует выбирать в точке замедления роста."
   ]
  },
  {
   "cell_type": "code",
   "execution_count": 28,
   "metadata": {},
   "outputs": [
    {
     "data": {
      "application/vnd.jupyter.widget-view+json": {
       "model_id": "33a3a2795ad4432899c84aa73b514bca",
       "version_major": 2,
       "version_minor": 0
      },
      "text/plain": [
       "  0%|          | 0/15 [00:00<?, ?it/s]"
      ]
     },
     "metadata": {},
     "output_type": "display_data"
    },
    {
     "data": {
      "application/vnd.jupyter.widget-view+json": {
       "model_id": "1f12b4ce26c044ec92f63e14e696e41f",
       "version_major": 2,
       "version_minor": 0
      },
      "text/plain": [
       "  0%|          | 0/15 [00:00<?, ?it/s]"
      ]
     },
     "metadata": {},
     "output_type": "display_data"
    },
    {
     "data": {
      "application/vnd.jupyter.widget-view+json": {
       "model_id": "f97373b413f448d5bfb6f12a138c2091",
       "version_major": 2,
       "version_minor": 0
      },
      "text/plain": [
       "  0%|          | 0/15 [00:00<?, ?it/s]"
      ]
     },
     "metadata": {},
     "output_type": "display_data"
    },
    {
     "data": {
      "application/vnd.jupyter.widget-view+json": {
       "model_id": "53813e48f26c4871b45b264fa822803d",
       "version_major": 2,
       "version_minor": 0
      },
      "text/plain": [
       "  0%|          | 0/15 [00:00<?, ?it/s]"
      ]
     },
     "metadata": {},
     "output_type": "display_data"
    },
    {
     "data": {
      "application/vnd.jupyter.widget-view+json": {
       "model_id": "6c3ed789672a42dab50168a7756c7994",
       "version_major": 2,
       "version_minor": 0
      },
      "text/plain": [
       "  0%|          | 0/15 [00:00<?, ?it/s]"
      ]
     },
     "metadata": {},
     "output_type": "display_data"
    },
    {
     "data": {
      "application/vnd.jupyter.widget-view+json": {
       "model_id": "0b6f9807687a4d0d90dd0cd0b5daed51",
       "version_major": 2,
       "version_minor": 0
      },
      "text/plain": [
       "  0%|          | 0/15 [00:00<?, ?it/s]"
      ]
     },
     "metadata": {},
     "output_type": "display_data"
    },
    {
     "data": {
      "application/vnd.jupyter.widget-view+json": {
       "model_id": "31104f5561094e7586f9773e987141f0",
       "version_major": 2,
       "version_minor": 0
      },
      "text/plain": [
       "  0%|          | 0/15 [00:00<?, ?it/s]"
      ]
     },
     "metadata": {},
     "output_type": "display_data"
    }
   ],
   "source": [
    "time_ = []\n",
    "precision_test=[]\n",
    "precision_train=[]\n",
    "reg = [0.01, 0.1, 1, 10, 20, 50, 100]\n",
    "for regular in reg:\n",
    "        model = ALS(factors=160, regularization=regular, calculate_training_loss=True, use_gpu=False, random_state=42)\n",
    "        mx = get_user_item_matrix(data_train, 'count', values)\n",
    "        id_to_itemid, id_to_userid, itemid_to_id, userid_to_id = get_dictionary(mx)\n",
    "        csr_ui, csr_iu = get_csr_matrix(mx)\n",
    "        start = time.time()\n",
    "        model.fit(csr_ui)     \n",
    "        end = time.time()\n",
    "        time_.append(end - start)\n",
    "        result[values] = result['user_id'].\\\n",
    "                   apply(lambda x: get_recommendations(x, model=model, sp_ui=csr_ui, N=5))\n",
    "        precision_test.append(result.apply(lambda row: precision_at_k(row[values], row['actual']), axis=1).mean())\n",
    "        precision_train.append(result.apply(lambda row: precision_at_k(row[values], row['actual_train']), axis=1).mean())        \n",
    "        \n"
   ]
  },
  {
   "cell_type": "code",
   "execution_count": 29,
   "metadata": {},
   "outputs": [
    {
     "data": {
      "image/png": "[encoded data removed]",
      "text/plain": [
       "<Figure size 432x288 with 1 Axes>"
      ]
     },
     "metadata": {
      "needs_background": "light"
     },
     "output_type": "display_data"
    }
   ],
   "source": [
    "plt.plot(time_, reg)\n",
    "plt.title('Зависимость времени обучения от регулериизации')\n",
    "plt.xlabel(\"Время\")\n",
    "plt.ylabel(\"Регуляризация\")\n",
    "plt.show()"
   ]
  },
  {
   "cell_type": "markdown",
   "metadata": {},
   "source": [
    "Время обучения модели не зависит от величины регуляризации, потому что величина не влияет на объём вычислений"
   ]
  },
  {
   "cell_type": "code",
   "execution_count": 30,
   "metadata": {},
   "outputs": [
    {
     "data": {
      "image/png": "[encoded data removed]",
      "text/plain": [
       "<Figure size 432x288 with 1 Axes>"
      ]
     },
     "metadata": {
      "needs_background": "light"
     },
     "output_type": "display_data"
    }
   ],
   "source": [
    "plt.plot(reg, precision_test, label=\"test\")\n",
    "plt.plot(reg, precision_train, label=\"train\")\n",
    "plt.title('Зависимость precision_at_k  от регулериизации')\n",
    "plt.ylabel(\"precision_at_k\")\n",
    "plt.xlabel(\"Регуляризация\")\n",
    "plt.legend()\n",
    "plt.show()"
   ]
  },
  {
   "cell_type": "markdown",
   "metadata": {},
   "source": [
    "Вид графиков соответствует ожидаемым. После достижения оптимального значения величины регуляризации точность модели начинает падать. "
   ]
  },
  {
   "cell_type": "code",
   "execution_count": 31,
   "metadata": {
    "scrolled": false
   },
   "outputs": [
    {
     "data": {
      "application/vnd.jupyter.widget-view+json": {
       "model_id": "cc5ecbed381c4efea1a4029a39edcac4",
       "version_major": 2,
       "version_minor": 0
      },
      "text/plain": [
       "  0%|          | 0/15 [00:00<?, ?it/s]"
      ]
     },
     "metadata": {},
     "output_type": "display_data"
    },
    {
     "data": {
      "application/vnd.jupyter.widget-view+json": {
       "model_id": "d3555c3551b24ebba9f9ecbfd8a8ad0b",
       "version_major": 2,
       "version_minor": 0
      },
      "text/plain": [
       "  0%|          | 0/15 [00:00<?, ?it/s]"
      ]
     },
     "metadata": {},
     "output_type": "display_data"
    },
    {
     "data": {
      "application/vnd.jupyter.widget-view+json": {
       "model_id": "1b2bd999ba7a410cb9ff75b48346224e",
       "version_major": 2,
       "version_minor": 0
      },
      "text/plain": [
       "  0%|          | 0/15 [00:00<?, ?it/s]"
      ]
     },
     "metadata": {},
     "output_type": "display_data"
    },
    {
     "data": {
      "application/vnd.jupyter.widget-view+json": {
       "model_id": "1c3cbae1b76144acb34e400651a20487",
       "version_major": 2,
       "version_minor": 0
      },
      "text/plain": [
       "  0%|          | 0/15 [00:00<?, ?it/s]"
      ]
     },
     "metadata": {},
     "output_type": "display_data"
    },
    {
     "data": {
      "application/vnd.jupyter.widget-view+json": {
       "model_id": "3b244af6c6f44fa68ff3a4553c442d75",
       "version_major": 2,
       "version_minor": 0
      },
      "text/plain": [
       "  0%|          | 0/15 [00:00<?, ?it/s]"
      ]
     },
     "metadata": {},
     "output_type": "display_data"
    },
    {
     "data": {
      "application/vnd.jupyter.widget-view+json": {
       "model_id": "75a7407e8ed2445b8b038a865d10b1f1",
       "version_major": 2,
       "version_minor": 0
      },
      "text/plain": [
       "  0%|          | 0/15 [00:00<?, ?it/s]"
      ]
     },
     "metadata": {},
     "output_type": "display_data"
    }
   ],
   "source": [
    "time_ = []\n",
    "precision_test=[]\n",
    "precision_train=[]\n",
    "factors = [10, 50, 100, 150, 250, 500]\n",
    "for factor in factors:\n",
    "        model = ALS(factors=factor, regularization=20, calculate_training_loss=True, use_gpu=False, random_state=42)\n",
    "        mx = get_user_item_matrix(data_train, 'count', values)\n",
    "        id_to_itemid, id_to_userid, itemid_to_id, userid_to_id = get_dictionary(mx)\n",
    "        csr_ui, csr_iu = get_csr_matrix(mx)\n",
    "        start = time.time()\n",
    "        model.fit(csr_ui)\n",
    "        end = time.time()\n",
    "        time_.append(end - start)\n",
    "        result[values] = result['user_id'].\\\n",
    "                   apply(lambda x: get_recommendations(x, model=model, sp_ui=csr_ui, N=5))\n",
    "        precision_test.append(result.apply(lambda row: precision_at_k(row[values], row['actual']), axis=1).mean()) \n",
    "        precision_train.append(result.apply(lambda row: precision_at_k(row[values], row['actual_train']), axis=1).mean())  \n",
    "        "
   ]
  },
  {
   "cell_type": "code",
   "execution_count": 32,
   "metadata": {},
   "outputs": [
    {
     "data": {
      "image/png": "[encoded data removed]",
      "text/plain": [
       "<Figure size 432x288 with 1 Axes>"
      ]
     },
     "metadata": {
      "needs_background": "light"
     },
     "output_type": "display_data"
    }
   ],
   "source": [
    "plt.plot(factors, time_)\n",
    "plt.title('Зависимость времени обучения от n_factors')\n",
    "plt.ylabel(\"Время\")\n",
    "plt.xlabel(\"n_factors\")\n",
    "plt.show()"
   ]
  },
  {
   "cell_type": "markdown",
   "metadata": {},
   "source": [
    "С ростом параметра растёт размерность матриц при факторизации, а следовательно, возрастает объём и время вычислений "
   ]
  },
  {
   "cell_type": "code",
   "execution_count": 33,
   "metadata": {},
   "outputs": [
    {
     "data": {
      "image/png": "[encoded data removed]",
      "text/plain": [
       "<Figure size 432x288 with 1 Axes>"
      ]
     },
     "metadata": {
      "needs_background": "light"
     },
     "output_type": "display_data"
    }
   ],
   "source": [
    "plt.plot(factors, precision_test, label=\"test\")\n",
    "plt.plot(factors, precision_train, label = \"train\")\n",
    "plt.title('Зависимость precision_at_k  от n_factors')\n",
    "plt.ylabel(\"precision_at_k\")\n",
    "plt.xlabel(\"n_factors\")\n",
    "plt.legend()\n",
    "plt.show()"
   ]
  },
  {
   "cell_type": "markdown",
   "metadata": {},
   "source": [
    "Из графика видно что ALS не подвергается переобучению. А временные затраты растут практически линейно с ростом параметра n_factors. Таким образом можно сделать вывод - определение оптимального значения необходимо осуществлять в точке прекращения быстрого роста точности, а также брать во внимание время (вычислительные ресурсы) которое вы готовы потратить на обучение модели. "
   ]
  },
  {
   "cell_type": "markdown",
   "metadata": {},
   "source": [
    "В ходе работы столкнулся с нестабильность работы random_state. Каждый новый запуск давал некоторые отличия от предыдущего. Объяснить это не смог. "
   ]
  }
 ],
 "metadata": {
  "colab": {
   "collapsed_sections": [],
   "name": "Копия блокнота \"HW_3_tasks.ipynb\"",
   "provenance": [
    {
     "file_id": "12SRuUa9GSx_zyK2mgm1_PxY5uYb64sZ4",
     "timestamp": 1648713140778
    }
   ]
  },
  "kernelspec": {
   "display_name": "Python 3 (ipykernel)",
   "language": "python",
   "name": "python3"
  },
  "language_info": {
   "codemirror_mode": {
    "name": "ipython",
    "version": 3
   },
   "file_extension": ".py",
   "mimetype": "text/x-python",
   "name": "python",
   "nbconvert_exporter": "python",
   "pygments_lexer": "ipython3",
   "version": "3.9.7"
  }
 },
 "nbformat": 4,
 "nbformat_minor": 1
}
